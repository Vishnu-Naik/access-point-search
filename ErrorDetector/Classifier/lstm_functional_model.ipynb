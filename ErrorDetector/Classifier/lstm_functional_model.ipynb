{
 "cells": [
  {
   "cell_type": "code",
   "execution_count": null,
   "outputs": [],
   "source": [
    "window_size = 24"
   ],
   "metadata": {
    "collapsed": false
   }
  },
  {
   "cell_type": "code",
   "execution_count": null,
   "metadata": {
    "collapsed": true
   },
   "outputs": [],
   "source": [
    "input = keras.Input(shape=(None, num_features), name=\"input\")\n",
    "\n",
    "x = layers.LSTM(80, return_sequences=True)(input)\n",
    "x = layers.Dropout(0.3)(x)\n",
    "x = layers.LSTM(80, return_sequences=True)(x)\n",
    "x = layers.Dropout(0.3)(x)\n",
    "x = layers.LSTM(80, return_sequences=True)(x)\n",
    "x = layers.Dropout(0.3)(x)\n",
    "\n",
    "# x = layers.LSTM(80, return_sequences=False)(x)\n",
    "x = layers.LSTM(80, return_sequences=True)(x)\n",
    "x = layers.Dropout(0.3)(x)\n",
    "\n",
    "\n",
    "# out_a = keras.layers.Dense( window_size * num_features, activation='linear', name='output')(x)\n",
    "out_a = keras.layers.Dense( 3, activation='linear', name='output')(x)\n",
    "# out = keras.layers.Reshape((None, None, num_features))(out_a)\n",
    "# out_b = keras.layers.Dense(10, activation='linear', name='output2')(x)\n",
    "out_a = tf.keras.layers.Reshape([window_size, num_features])(out_a)\n",
    "encoder = keras.Model( inputs = input,\n",
    "                       outputs = out_a, name=\"encoder\")"
   ]
  },
  {
   "cell_type": "code",
   "execution_count": null,
   "outputs": [],
   "source": [
    "keras.utils.plot_model(\n",
    "    encoder,  show_shapes=True\n",
    ")"
   ],
   "metadata": {
    "collapsed": false
   }
  },
  {
   "cell_type": "code",
   "execution_count": null,
   "outputs": [],
   "source": [
    "history = compile_and_fit(encoder, wide_window)"
   ],
   "metadata": {
    "collapsed": false
   }
  }
 ],
 "metadata": {
  "kernelspec": {
   "display_name": "Python 3",
   "language": "python",
   "name": "python3"
  },
  "language_info": {
   "codemirror_mode": {
    "name": "ipython",
    "version": 2
   },
   "file_extension": ".py",
   "mimetype": "text/x-python",
   "name": "python",
   "nbconvert_exporter": "python",
   "pygments_lexer": "ipython2",
   "version": "2.7.6"
  }
 },
 "nbformat": 4,
 "nbformat_minor": 0
}
