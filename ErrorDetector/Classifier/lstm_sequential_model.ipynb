{
 "cells": [
  {
   "cell_type": "code",
   "execution_count": 2,
   "id": "aa17a9d8",
   "metadata": {},
   "outputs": [],
   "source": [
    "import numpy as np \n",
    "import tensorflow as tf\n",
    "from tensorflow import keras\n",
    "from tensorflow.keras import layers"
   ]
  },
  {
   "cell_type": "code",
   "execution_count": 3,
   "id": "d9cfc2e6",
   "metadata": {},
   "outputs": [],
   "source": [
    "import matplotlib.pyplot as plt"
   ]
  },
  {
   "cell_type": "code",
   "execution_count": 4,
   "id": "e7329b28",
   "metadata": {},
   "outputs": [
    {
     "ename": "ModuleNotFoundError",
     "evalue": "No module named 'preprocessing'",
     "output_type": "error",
     "traceback": [
      "\u001B[1;31m---------------------------------------------------------------------------\u001B[0m",
      "\u001B[1;31mModuleNotFoundError\u001B[0m                       Traceback (most recent call last)",
      "Cell \u001B[1;32mIn [4], line 1\u001B[0m\n\u001B[1;32m----> 1\u001B[0m \u001B[38;5;28;01mfrom\u001B[39;00m \u001B[38;5;21;01mpreprocessing\u001B[39;00m\u001B[38;5;21;01m.\u001B[39;00m\u001B[38;5;21;01mdata_preprocessing\u001B[39;00m \u001B[38;5;28;01mimport\u001B[39;00m (\n\u001B[0;32m      2\u001B[0m     WindowGenerator,\n\u001B[0;32m      3\u001B[0m     split_dataset,\n\u001B[0;32m      4\u001B[0m     get_normalized_dataset,\n\u001B[0;32m      5\u001B[0m     load_data)\n",
      "\u001B[1;31mModuleNotFoundError\u001B[0m: No module named 'preprocessing'"
     ]
    }
   ],
   "source": [
    "from preprocessing.data_preprocessing import (\n",
    "    WindowGenerator,\n",
    "    split_dataset,\n",
    "    get_normalized_dataset,\n",
    "    load_data)"
   ]
  },
  {
   "cell_type": "code",
   "execution_count": null,
   "outputs": [],
   "source": [
    "from StationarityTest.adf_test import StationaryTester"
   ],
   "metadata": {
    "collapsed": false
   }
  },
  {
   "cell_type": "markdown",
   "source": [
    "### Stationarity check"
   ],
   "metadata": {
    "collapsed": false
   }
  },
  {
   "cell_type": "code",
   "execution_count": null,
   "id": "e532afe8",
   "metadata": {},
   "outputs": [],
   "source": [
    "def compile_and_fit(model, window, patience=10, n_epochs = 128):\n",
    "  early_stopping = tf.keras.callbacks.EarlyStopping(monitor='val_loss',\n",
    "                                                    patience=patience,\n",
    "                                                    mode='min')\n",
    "\n",
    "  model.compile(loss=tf.keras.losses.MeanSquaredError(),\n",
    "                optimizer=tf.keras.optimizers.Adam(),\n",
    "                metrics=[tf.keras.metrics.MeanAbsoluteError(), 'accuracy'])\n",
    "\n",
    "  history = model.fit(window.train, epochs=n_epochs,\n",
    "                      validation_data=window.val,)\n",
    "                      # callbacks=[early_stopping])\n",
    "  return history\n",
    "  # return model"
   ]
  },
  {
   "cell_type": "markdown",
   "source": [
    "## Engine Timing model simulation data forecasting\n",
    "Here we are considering the simulation data obtained from the above said model. In total we have 6 time series."
   ],
   "metadata": {
    "collapsed": false
   }
  },
  {
   "cell_type": "code",
   "execution_count": null,
   "id": "577efb48",
   "metadata": {},
   "outputs": [],
   "source": [
    "ENGINE_TIMING_DATA_FILE_PATH = './data/Engine_Timing_sim_data_12_01_22_12_2022.xlsx'\n",
    "\n",
    "engine_Timing_data_frame = load_data(ENGINE_TIMING_DATA_FILE_PATH, plot=True)\n",
    "engine_Timing_data_frame.head()"
   ]
  },
  {
   "cell_type": "code",
   "execution_count": null,
   "outputs": [],
   "source": [
    "engine_Timing_data_frame.drop(columns=['time'], inplace=True)"
   ],
   "metadata": {
    "collapsed": false
   }
  },
  {
   "cell_type": "code",
   "execution_count": null,
   "outputs": [],
   "source": [
    "engine_Timing_data_frame.head()"
   ],
   "metadata": {
    "collapsed": false
   }
  },
  {
   "cell_type": "code",
   "execution_count": null,
   "outputs": [],
   "source": [
    "stat_tester = StationaryTester()\n",
    "for col_name in engine_Timing_data_frame.columns:\n",
    "    print('='*15 + f'Stationary test for {col_name}' + '='*15 + '\\n')\n",
    "    stat_tester.test(engine_Timing_data_frame[col_name].to_numpy(), has_trends=True)"
   ],
   "metadata": {
    "collapsed": false
   }
  },
  {
   "cell_type": "code",
   "execution_count": null,
   "outputs": [],
   "source": [
    "# ## Splitting the data\n",
    "train_test_val_split = (0.8, 0.1, 0.1)\n",
    "train_df, test_df, val_df = split_dataset(engine_Timing_data_frame, train_test_val_split)\n",
    "\n",
    "# ## Normalization of data\n",
    "train_df, val_df, test_df = get_normalized_dataset(train_df, val_df, test_df)\n"
   ],
   "metadata": {
    "collapsed": false
   }
  },
  {
   "cell_type": "code",
   "execution_count": null,
   "outputs": [],
   "source": [
    "engine_Timing_data_set = WindowGenerator(train_df=train_df, val_df=val_df, test_df=test_df,\n",
    "                        input_width=24, label_width=24, shift=24)"
   ],
   "metadata": {
    "collapsed": false
   }
  },
  {
   "cell_type": "code",
   "execution_count": null,
   "outputs": [],
   "source": [
    "engine_Timing_data_set"
   ],
   "metadata": {
    "collapsed": false
   }
  },
  {
   "cell_type": "code",
   "execution_count": null,
   "outputs": [],
   "source": [
    "engine_Timing_data_set.plot()"
   ],
   "metadata": {
    "collapsed": false
   }
  },
  {
   "cell_type": "code",
   "execution_count": null,
   "outputs": [],
   "source": [
    "def build_model(num_features):\n",
    "    model = tf.keras.models.Sequential([\n",
    "        # Shape [batch, time, features] => [batch, time, lstm_units]\n",
    "        tf.keras.layers.LSTM(32, return_sequences=True),\n",
    "        tf.keras.layers.Dropout(0.3),\n",
    "        tf.keras.layers.LSTM(32, return_sequences=True),\n",
    "        tf.keras.layers.Dropout(0.3),\n",
    "        tf.keras.layers.LSTM(32, return_sequences=True),\n",
    "        tf.keras.layers.Dropout(0.3),\n",
    "        tf.keras.layers.LSTM(32, return_sequences=True),\n",
    "        tf.keras.layers.Dropout(0.3),\n",
    "        # Shape => [batch, time, features]\n",
    "        tf.keras.layers.Dense(units=num_features)\n",
    "    ])\n",
    "\n",
    "    return model"
   ],
   "metadata": {
    "collapsed": false
   }
  },
  {
   "cell_type": "code",
   "execution_count": null,
   "outputs": [],
   "source": [
    "forecast_model = build_model(num_features=len(engine_Timing_data_set.train_df.columns))\n",
    "forecast_model_history = compile_and_fit(forecast_model, engine_Timing_data_set)"
   ],
   "metadata": {
    "collapsed": false
   }
  },
  {
   "cell_type": "code",
   "execution_count": null,
   "outputs": [],
   "source": [],
   "metadata": {
    "collapsed": false
   }
  },
  {
   "cell_type": "code",
   "execution_count": null,
   "outputs": [],
   "source": [],
   "metadata": {
    "collapsed": false
   }
  }
 ],
 "metadata": {
  "kernelspec": {
   "display_name": "thesis-venv",
   "language": "python",
   "name": "thesis-venv"
  },
  "language_info": {
   "codemirror_mode": {
    "name": "ipython",
    "version": 3
   },
   "file_extension": ".py",
   "mimetype": "text/x-python",
   "name": "python",
   "nbconvert_exporter": "python",
   "pygments_lexer": "ipython3",
   "version": "3.10.9"
  },
  "vscode": {
   "interpreter": {
    "hash": "4ed1e60d53ec687cd08561468826879ac387fa6cb426728f3989bdf7ac79679c"
   }
  }
 },
 "nbformat": 4,
 "nbformat_minor": 5
}
